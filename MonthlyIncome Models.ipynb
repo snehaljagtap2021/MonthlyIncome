{
 "cells": [
  {
   "cell_type": "code",
   "execution_count": 1,
   "metadata": {},
   "outputs": [],
   "source": [
    "import pandas as pd\n",
    "import numpy as np\n",
    "from sklearn.model_selection import train_test_split"
   ]
  },
  {
   "cell_type": "code",
   "execution_count": 2,
   "metadata": {},
   "outputs": [],
   "source": [
    "path = 'C:\\\\Users\\\\User\\\\Desktop\\\\DATA SCIENCE\\\\Abhinav R\\\\datasets\\\\MonthlyIncome_EDA_TOH.csv'\n",
    "data = pd.read_csv(path, index_col=0)"
   ]
  },
  {
   "cell_type": "code",
   "execution_count": 3,
   "metadata": {
    "scrolled": true
   },
   "outputs": [
    {
     "data": {
      "text/html": [
       "<div>\n",
       "<style scoped>\n",
       "    .dataframe tbody tr th:only-of-type {\n",
       "        vertical-align: middle;\n",
       "    }\n",
       "\n",
       "    .dataframe tbody tr th {\n",
       "        vertical-align: top;\n",
       "    }\n",
       "\n",
       "    .dataframe thead th {\n",
       "        text-align: right;\n",
       "    }\n",
       "</style>\n",
       "<table border=\"1\" class=\"dataframe\">\n",
       "  <thead>\n",
       "    <tr style=\"text-align: right;\">\n",
       "      <th></th>\n",
       "      <th>Age</th>\n",
       "      <th>Education</th>\n",
       "      <th>JobLevel</th>\n",
       "      <th>MonthlyIncome</th>\n",
       "      <th>NumCompaniesWorked</th>\n",
       "      <th>StockOptionLevel</th>\n",
       "      <th>TotalWorkingYears</th>\n",
       "      <th>YearsAtCompany</th>\n",
       "      <th>YearsInCurrentRole</th>\n",
       "      <th>YearsSinceLastPromotion</th>\n",
       "      <th>...</th>\n",
       "      <th>JobRole_Human Resources</th>\n",
       "      <th>JobRole_Laboratory Technician</th>\n",
       "      <th>JobRole_Manager</th>\n",
       "      <th>JobRole_Manufacturing Director</th>\n",
       "      <th>JobRole_Research Director</th>\n",
       "      <th>JobRole_Research Scientist</th>\n",
       "      <th>JobRole_Sales Executive</th>\n",
       "      <th>JobRole_Sales Representative</th>\n",
       "      <th>MaritalStatus_Married</th>\n",
       "      <th>MaritalStatus_Single</th>\n",
       "    </tr>\n",
       "  </thead>\n",
       "  <tbody>\n",
       "    <tr>\n",
       "      <th>0</th>\n",
       "      <td>41</td>\n",
       "      <td>2</td>\n",
       "      <td>2</td>\n",
       "      <td>5993</td>\n",
       "      <td>8</td>\n",
       "      <td>0</td>\n",
       "      <td>8</td>\n",
       "      <td>6</td>\n",
       "      <td>4</td>\n",
       "      <td>0</td>\n",
       "      <td>...</td>\n",
       "      <td>0</td>\n",
       "      <td>0</td>\n",
       "      <td>0</td>\n",
       "      <td>0</td>\n",
       "      <td>0</td>\n",
       "      <td>0</td>\n",
       "      <td>1</td>\n",
       "      <td>0</td>\n",
       "      <td>0</td>\n",
       "      <td>1</td>\n",
       "    </tr>\n",
       "    <tr>\n",
       "      <th>1</th>\n",
       "      <td>49</td>\n",
       "      <td>1</td>\n",
       "      <td>2</td>\n",
       "      <td>5130</td>\n",
       "      <td>1</td>\n",
       "      <td>1</td>\n",
       "      <td>10</td>\n",
       "      <td>10</td>\n",
       "      <td>7</td>\n",
       "      <td>1</td>\n",
       "      <td>...</td>\n",
       "      <td>0</td>\n",
       "      <td>0</td>\n",
       "      <td>0</td>\n",
       "      <td>0</td>\n",
       "      <td>0</td>\n",
       "      <td>1</td>\n",
       "      <td>0</td>\n",
       "      <td>0</td>\n",
       "      <td>1</td>\n",
       "      <td>0</td>\n",
       "    </tr>\n",
       "    <tr>\n",
       "      <th>2</th>\n",
       "      <td>37</td>\n",
       "      <td>2</td>\n",
       "      <td>1</td>\n",
       "      <td>2090</td>\n",
       "      <td>6</td>\n",
       "      <td>0</td>\n",
       "      <td>7</td>\n",
       "      <td>0</td>\n",
       "      <td>0</td>\n",
       "      <td>0</td>\n",
       "      <td>...</td>\n",
       "      <td>0</td>\n",
       "      <td>1</td>\n",
       "      <td>0</td>\n",
       "      <td>0</td>\n",
       "      <td>0</td>\n",
       "      <td>0</td>\n",
       "      <td>0</td>\n",
       "      <td>0</td>\n",
       "      <td>0</td>\n",
       "      <td>1</td>\n",
       "    </tr>\n",
       "    <tr>\n",
       "      <th>3</th>\n",
       "      <td>33</td>\n",
       "      <td>4</td>\n",
       "      <td>1</td>\n",
       "      <td>2909</td>\n",
       "      <td>1</td>\n",
       "      <td>0</td>\n",
       "      <td>8</td>\n",
       "      <td>8</td>\n",
       "      <td>7</td>\n",
       "      <td>3</td>\n",
       "      <td>...</td>\n",
       "      <td>0</td>\n",
       "      <td>0</td>\n",
       "      <td>0</td>\n",
       "      <td>0</td>\n",
       "      <td>0</td>\n",
       "      <td>1</td>\n",
       "      <td>0</td>\n",
       "      <td>0</td>\n",
       "      <td>1</td>\n",
       "      <td>0</td>\n",
       "    </tr>\n",
       "    <tr>\n",
       "      <th>4</th>\n",
       "      <td>27</td>\n",
       "      <td>1</td>\n",
       "      <td>1</td>\n",
       "      <td>3468</td>\n",
       "      <td>9</td>\n",
       "      <td>1</td>\n",
       "      <td>6</td>\n",
       "      <td>2</td>\n",
       "      <td>2</td>\n",
       "      <td>2</td>\n",
       "      <td>...</td>\n",
       "      <td>0</td>\n",
       "      <td>1</td>\n",
       "      <td>0</td>\n",
       "      <td>0</td>\n",
       "      <td>0</td>\n",
       "      <td>0</td>\n",
       "      <td>0</td>\n",
       "      <td>0</td>\n",
       "      <td>1</td>\n",
       "      <td>0</td>\n",
       "    </tr>\n",
       "  </tbody>\n",
       "</table>\n",
       "<p>5 rows × 28 columns</p>\n",
       "</div>"
      ],
      "text/plain": [
       "   Age  Education  JobLevel  MonthlyIncome  NumCompaniesWorked  \\\n",
       "0   41          2         2           5993                   8   \n",
       "1   49          1         2           5130                   1   \n",
       "2   37          2         1           2090                   6   \n",
       "3   33          4         1           2909                   1   \n",
       "4   27          1         1           3468                   9   \n",
       "\n",
       "   StockOptionLevel  TotalWorkingYears  YearsAtCompany  YearsInCurrentRole  \\\n",
       "0                 0                  8               6                   4   \n",
       "1                 1                 10              10                   7   \n",
       "2                 0                  7               0                   0   \n",
       "3                 0                  8               8                   7   \n",
       "4                 1                  6               2                   2   \n",
       "\n",
       "   YearsSinceLastPromotion  ...  JobRole_Human Resources  \\\n",
       "0                        0  ...                        0   \n",
       "1                        1  ...                        0   \n",
       "2                        0  ...                        0   \n",
       "3                        3  ...                        0   \n",
       "4                        2  ...                        0   \n",
       "\n",
       "   JobRole_Laboratory Technician  JobRole_Manager  \\\n",
       "0                              0                0   \n",
       "1                              0                0   \n",
       "2                              1                0   \n",
       "3                              0                0   \n",
       "4                              1                0   \n",
       "\n",
       "   JobRole_Manufacturing Director  JobRole_Research Director  \\\n",
       "0                               0                          0   \n",
       "1                               0                          0   \n",
       "2                               0                          0   \n",
       "3                               0                          0   \n",
       "4                               0                          0   \n",
       "\n",
       "   JobRole_Research Scientist  JobRole_Sales Executive  \\\n",
       "0                           0                        1   \n",
       "1                           1                        0   \n",
       "2                           0                        0   \n",
       "3                           1                        0   \n",
       "4                           0                        0   \n",
       "\n",
       "   JobRole_Sales Representative  MaritalStatus_Married  MaritalStatus_Single  \n",
       "0                             0                      0                     1  \n",
       "1                             0                      1                     0  \n",
       "2                             0                      0                     1  \n",
       "3                             0                      1                     0  \n",
       "4                             0                      1                     0  \n",
       "\n",
       "[5 rows x 28 columns]"
      ]
     },
     "execution_count": 3,
     "metadata": {},
     "output_type": "execute_result"
    }
   ],
   "source": [
    "data.head()"
   ]
  },
  {
   "cell_type": "code",
   "execution_count": 4,
   "metadata": {},
   "outputs": [
    {
     "data": {
      "text/plain": [
       "Age                                  int64\n",
       "Education                            int64\n",
       "JobLevel                             int64\n",
       "MonthlyIncome                        int64\n",
       "NumCompaniesWorked                   int64\n",
       "StockOptionLevel                     int64\n",
       "TotalWorkingYears                    int64\n",
       "YearsAtCompany                       int64\n",
       "YearsInCurrentRole                   int64\n",
       "YearsSinceLastPromotion              int64\n",
       "YearsWithCurrManager                 int64\n",
       "Department_Research & Development    int64\n",
       "Department_Sales                     int64\n",
       "EducationField_Life Sciences         int64\n",
       "EducationField_Marketing             int64\n",
       "EducationField_Medical               int64\n",
       "EducationField_Other                 int64\n",
       "EducationField_Technical Degree      int64\n",
       "JobRole_Human Resources              int64\n",
       "JobRole_Laboratory Technician        int64\n",
       "JobRole_Manager                      int64\n",
       "JobRole_Manufacturing Director       int64\n",
       "JobRole_Research Director            int64\n",
       "JobRole_Research Scientist           int64\n",
       "JobRole_Sales Executive              int64\n",
       "JobRole_Sales Representative         int64\n",
       "MaritalStatus_Married                int64\n",
       "MaritalStatus_Single                 int64\n",
       "dtype: object"
      ]
     },
     "execution_count": 4,
     "metadata": {},
     "output_type": "execute_result"
    }
   ],
   "source": [
    "data.dtypes"
   ]
  },
  {
   "cell_type": "code",
   "execution_count": 7,
   "metadata": {},
   "outputs": [
    {
     "data": {
      "text/plain": [
       "1191"
      ]
     },
     "execution_count": 7,
     "metadata": {},
     "output_type": "execute_result"
    }
   ],
   "source": [
    "len(data.index)"
   ]
  },
  {
   "cell_type": "code",
   "execution_count": 5,
   "metadata": {},
   "outputs": [
    {
     "name": "stdout",
     "output_type": "stream",
     "text": [
      "(1191, 27)\n",
      "(1191,)\n"
     ]
    }
   ],
   "source": [
    "X = data.drop('MonthlyIncome',axis=1).values\n",
    "y = data['MonthlyIncome'].values\n",
    "\n",
    "print(X.shape)\n",
    "print(y.shape)"
   ]
  },
  {
   "cell_type": "code",
   "execution_count": 6,
   "metadata": {},
   "outputs": [
    {
     "name": "stdout",
     "output_type": "stream",
     "text": [
      "(833, 27)\n",
      "(358, 27)\n",
      "(833,)\n",
      "(358,)\n"
     ]
    }
   ],
   "source": [
    "X_train, X_test, y_train, y_test = train_test_split(X,y,test_size=0.3, random_state=10)\n",
    "\n",
    "print(X_train.shape)\n",
    "print(X_test.shape)\n",
    "print(y_train.shape)\n",
    "print(y_test.shape)\n"
   ]
  },
  {
   "cell_type": "code",
   "execution_count": 7,
   "metadata": {},
   "outputs": [
    {
     "name": "stdout",
     "output_type": "stream",
     "text": [
      "(833, 1)\n",
      "(358, 1)\n"
     ]
    }
   ],
   "source": [
    "y_train = y_train.reshape(-1,1)\n",
    "y_test = y_test.reshape(-1,1)\n",
    "print(y_train.shape) \n",
    "print(y_test.shape) "
   ]
  },
  {
   "cell_type": "code",
   "execution_count": 8,
   "metadata": {},
   "outputs": [],
   "source": [
    "from sklearn.linear_model import LinearRegression"
   ]
  },
  {
   "cell_type": "code",
   "execution_count": 9,
   "metadata": {},
   "outputs": [
    {
     "data": {
      "text/plain": [
       "LinearRegression(copy_X=True, fit_intercept=True, n_jobs=None,\n",
       "         normalize=False)"
      ]
     },
     "execution_count": 9,
     "metadata": {},
     "output_type": "execute_result"
    }
   ],
   "source": [
    "lr = LinearRegression()\n",
    "lr.fit(X_train,y_train)"
   ]
  },
  {
   "cell_type": "code",
   "execution_count": 10,
   "metadata": {},
   "outputs": [
    {
     "name": "stdout",
     "output_type": "stream",
     "text": [
      "Coefficients/Weights :  [[ 1.30836164e+00 -1.40704829e+01  2.56689701e+03  2.95364684e+01\n",
      "  -4.98595015e+01  2.26248000e+01 -9.47766539e+00  2.61566430e+01\n",
      "   1.79687558e+01 -2.44642997e+01  1.46230993e+02  1.34428472e+02\n",
      "  -5.21646565e+01  3.90467240e+01 -4.32438081e+01 -1.34963145e+02\n",
      "   9.26023758e+01 -2.80659465e+02 -5.67897496e+02  3.73742440e+03\n",
      "   2.38006924e+00  4.12164145e+03 -5.63375972e+02  4.19635309e+00\n",
      "  -7.44350872e+02  2.03195729e+01  5.08765491e+00]]\n",
      "____________________________________________________________________________________________________\n",
      "Intercept :  [391.96609659]\n"
     ]
    }
   ],
   "source": [
    "print(\"Coefficients/Weights : \", lr.coef_)\n",
    "print(\"_\"*100)\n",
    "print(\"Intercept : \",lr.intercept_)"
   ]
  },
  {
   "cell_type": "code",
   "execution_count": 11,
   "metadata": {},
   "outputs": [
    {
     "name": "stdout",
     "output_type": "stream",
     "text": [
      "(833, 1)\n",
      "(358, 1)\n"
     ]
    }
   ],
   "source": [
    "\n",
    "y_pred_train = lr.predict(X_train)\n",
    "y_pred_test = lr.predict(X_test)\n",
    "\n",
    "print(y_pred_train.shape)\n",
    "print(y_pred_test.shape)"
   ]
  },
  {
   "cell_type": "code",
   "execution_count": 12,
   "metadata": {},
   "outputs": [
    {
     "name": "stdout",
     "output_type": "stream",
     "text": [
      "0.8265282456562424\n",
      "1180506.6133452668\n"
     ]
    }
   ],
   "source": [
    "from sklearn.metrics import r2_score, mean_squared_error\n",
    "\n",
    "training_r2 = r2_score(y_train,y_pred_train)\n",
    "training_mse = mean_squared_error(y_train,y_pred_train)\n",
    "\n",
    "print(training_r2)\n",
    "print(training_mse)"
   ]
  },
  {
   "cell_type": "code",
   "execution_count": 13,
   "metadata": {},
   "outputs": [
    {
     "name": "stdout",
     "output_type": "stream",
     "text": [
      "0.8161659207944133\n",
      "1271589.7444297585\n"
     ]
    }
   ],
   "source": [
    "test_r2 = r2_score(y_test,y_pred_test)\n",
    "test_mse = mean_squared_error(y_test,y_pred_test)\n",
    "print(test_r2)\n",
    "print(test_mse)"
   ]
  },
  {
   "cell_type": "markdown",
   "metadata": {},
   "source": [
    "# cross validation"
   ]
  },
  {
   "cell_type": "code",
   "execution_count": 14,
   "metadata": {},
   "outputs": [],
   "source": [
    "from sklearn.model_selection import KFold"
   ]
  },
  {
   "cell_type": "code",
   "execution_count": 15,
   "metadata": {},
   "outputs": [
    {
     "name": "stdout",
     "output_type": "stream",
     "text": [
      "KFold(n_splits=5, random_state=10, shuffle=True)\n"
     ]
    }
   ],
   "source": [
    "folds = KFold(n_splits=5,shuffle=True,random_state = 10)\n",
    "print(folds)"
   ]
  },
  {
   "cell_type": "code",
   "execution_count": 16,
   "metadata": {},
   "outputs": [],
   "source": [
    "from sklearn.model_selection import cross_val_score"
   ]
  },
  {
   "cell_type": "code",
   "execution_count": 17,
   "metadata": {},
   "outputs": [],
   "source": [
    "lr_cv = LinearRegression()"
   ]
  },
  {
   "cell_type": "code",
   "execution_count": 18,
   "metadata": {},
   "outputs": [],
   "source": [
    "r2_scores = cross_val_score(lr_cv, X_train, y_train, scoring = 'r2', cv= folds)"
   ]
  },
  {
   "cell_type": "code",
   "execution_count": 19,
   "metadata": {},
   "outputs": [
    {
     "name": "stdout",
     "output_type": "stream",
     "text": [
      "[0.78106934 0.83218232 0.83434139 0.75382597 0.8456364 ]\n"
     ]
    }
   ],
   "source": [
    "print(r2_scores)"
   ]
  },
  {
   "cell_type": "code",
   "execution_count": 20,
   "metadata": {},
   "outputs": [
    {
     "data": {
      "text/plain": [
       "0.809411085507314"
      ]
     },
     "execution_count": 20,
     "metadata": {},
     "output_type": "execute_result"
    }
   ],
   "source": [
    "np.mean(r2_scores)"
   ]
  },
  {
   "cell_type": "markdown",
   "metadata": {},
   "source": [
    "# Ridge and lasso regression"
   ]
  },
  {
   "cell_type": "code",
   "execution_count": 21,
   "metadata": {},
   "outputs": [],
   "source": [
    "import matplotlib as mpl\n",
    "import matplotlib.pyplot as plt"
   ]
  },
  {
   "cell_type": "code",
   "execution_count": 22,
   "metadata": {},
   "outputs": [],
   "source": [
    "from sklearn.preprocessing import PolynomialFeatures\n",
    "from sklearn.linear_model import Ridge\n",
    "from sklearn.linear_model import Lasso\n",
    "from sklearn.preprocessing import MinMaxScaler\n",
    "scaler = MinMaxScaler()\n"
   ]
  },
  {
   "cell_type": "code",
   "execution_count": 23,
   "metadata": {},
   "outputs": [
    {
     "name": "stdout",
     "output_type": "stream",
     "text": [
      "ridge regression linear model intercept: [393.04164997]\n",
      "ridge regression linear model coeff: [[ 1.01633903e+00 -1.54591488e+01  2.60288031e+03  3.02869689e+01\n",
      "  -5.19632736e+01  2.32764163e+01 -1.00937163e+01  2.56848263e+01\n",
      "   1.77266466e+01 -2.35004620e+01  1.17321099e+02  2.11077927e+02\n",
      "  -4.11329027e+01  4.84918787e+01 -1.81951831e+01 -1.19121940e+02\n",
      "   1.09037302e+02 -3.28399026e+02 -5.88957067e+02  3.23541266e+03\n",
      "  -5.90995546e+01  3.77441545e+03 -5.83857004e+02 -1.58277653e+02\n",
      "  -8.51244419e+02  2.60424793e+01  2.92344652e+00]]\n",
      "R-squared score (train): 0.8260575516527795\n",
      "R-squared score (test): 0.8156877659881151\n",
      "Number of non-zero features: 27\n"
     ]
    }
   ],
   "source": [
    "linridge = Ridge().fit(X_train, y_train)\n",
    "\n",
    "print('ridge regression linear model intercept:',linridge.intercept_)\n",
    "print('ridge regression linear model coeff:',linridge.coef_)\n",
    "print('R-squared score (train):',linridge.score(X_train, y_train))\n",
    "print('R-squared score (test):',linridge.score(X_test, y_test))\n",
    "print('Number of non-zero features:',np.sum(linridge.coef_ != 0))\n"
   ]
  },
  {
   "cell_type": "code",
   "execution_count": 24,
   "metadata": {},
   "outputs": [
    {
     "name": "stderr",
     "output_type": "stream",
     "text": [
      "C:\\Users\\User\\Anaconda3\\lib\\site-packages\\sklearn\\utils\\validation.py:595: DataConversionWarning: Data with input dtype int64 was converted to float64 by MinMaxScaler.\n",
      "  warnings.warn(msg, DataConversionWarning)\n"
     ]
    }
   ],
   "source": [
    "X_train_scaled = scaler.fit_transform(X_train)\n",
    "X_test_scaled = scaler.transform(X_test)"
   ]
  },
  {
   "cell_type": "code",
   "execution_count": 25,
   "metadata": {
    "scrolled": true
   },
   "outputs": [
    {
     "data": {
      "text/plain": [
       "Ridge(alpha=1.0, copy_X=True, fit_intercept=True, max_iter=None,\n",
       "   normalize=False, random_state=None, solver='auto', tol=0.001)"
      ]
     },
     "execution_count": 25,
     "metadata": {},
     "output_type": "execute_result"
    }
   ],
   "source": [
    "linridge = Ridge(alpha=1.0)\n",
    "linridge.fit(X_train_scaled, y_train)"
   ]
  },
  {
   "cell_type": "code",
   "execution_count": 26,
   "metadata": {},
   "outputs": [
    {
     "name": "stdout",
     "output_type": "stream",
     "text": [
      "ridge regression linear model intercept_scaled: [3022.6839402]\n",
      "ridge regression linear model coeff_scaled: [[ 5.56478777e+01 -5.77457351e+01  5.08108822e+03  2.71391639e+02\n",
      "  -1.51130418e+02  4.90692456e+02 -1.42748322e+02  3.06199796e+02\n",
      "   1.22124151e+02 -2.78603888e+02  1.31286379e+02  2.17647801e+02\n",
      "  -3.74052508e+01  5.41854414e+01 -1.62376678e+01 -1.11862679e+02\n",
      "   1.15004242e+02 -3.48934179e+02 -6.41143827e+02  3.28283393e+03\n",
      "  -5.72412960e+01  3.81285827e+03 -6.38721596e+02 -1.46409461e+02\n",
      "  -8.98378054e+02  2.56099334e+01  4.03195257e+00]]\n",
      "R-squared score (train_scaled): 0.8260625860505242\n",
      "R-squared score (test_scaled): 0.8169636819305401\n",
      "Number of non-zero features _scaled: 27\n"
     ]
    }
   ],
   "source": [
    "print('ridge regression linear model intercept_scaled:',linridge.intercept_)\n",
    "print('ridge regression linear model coeff_scaled:',linridge.coef_)\n",
    "print('R-squared score (train_scaled):',linridge.score(X_train_scaled, y_train))\n",
    "print('R-squared score (test_scaled):',linridge.score(X_test_scaled, y_test))\n",
    "print('Number of non-zero features _scaled:',np.sum(linridge.coef_ != 0))\n"
   ]
  },
  {
   "cell_type": "markdown",
   "metadata": {},
   "source": [
    "# Lasso\n"
   ]
  },
  {
   "cell_type": "code",
   "execution_count": 37,
   "metadata": {},
   "outputs": [],
   "source": [
    "from sklearn.linear_model import Lasso"
   ]
  },
  {
   "cell_type": "code",
   "execution_count": 39,
   "metadata": {
    "scrolled": true
   },
   "outputs": [],
   "source": [
    "lasso_model = Lasso().fit(X_train, y_train)"
   ]
  },
  {
   "cell_type": "code",
   "execution_count": 40,
   "metadata": {},
   "outputs": [
    {
     "name": "stdout",
     "output_type": "stream",
     "text": [
      "lasso regression linear model intercept: [433.11371659]\n",
      "lasso regression linear model coeff: [ 1.29939799e+00 -1.32297299e+01  2.59378032e+03  2.98198684e+01\n",
      " -4.88883893e+01  2.24264963e+01 -9.20117203e+00  2.51691124e+01\n",
      "  1.76104167e+01 -2.37925987e+01  0.00000000e+00  0.00000000e+00\n",
      " -1.03124314e+01  6.51921635e+01  0.00000000e+00 -8.00625482e+01\n",
      "  1.21274251e+02 -3.56734496e+02 -5.30243349e+02  3.62904813e+03\n",
      "  0.00000000e+00  4.05052776e+03 -5.24781975e+02  0.00000000e+00\n",
      " -6.98837077e+02  1.37753305e+01 -0.00000000e+00]\n",
      "R-squared score (train): 0.8264698279015378\n",
      "R-squared score (test): 0.8158556062386723\n",
      "Number of non-zero features: 21\n"
     ]
    }
   ],
   "source": [
    "print('lasso regression linear model intercept:',lasso_model.intercept_)\n",
    "print('lasso regression linear model coeff:',lasso_model.coef_)\n",
    "print('R-squared score (train):',lasso_model.score(X_train, y_train))\n",
    "print('R-squared score (test):',lasso_model.score(X_test, y_test))\n",
    "print('Number of non-zero features:',np.sum(lasso_model.coef_ != 0))"
   ]
  },
  {
   "cell_type": "code",
   "execution_count": 41,
   "metadata": {
    "scrolled": true
   },
   "outputs": [
    {
     "name": "stdout",
     "output_type": "stream",
     "text": [
      "lasso regression linear model intercept:  [3033.55133169]\n",
      "lasso regression linear model coeff:\n",
      "  [  33.91328912  -30.74590604 5187.30073461  272.32918695 -137.29586098\n",
      "  411.30552171   -0.          194.65039595  108.16226021 -272.39991411\n",
      "    0.            0.           -9.91789974   66.32164769   -0.\n",
      "  -77.66904339  124.64112943 -360.79130401 -532.01304105 3641.23182136\n",
      "    0.         4052.04475062 -528.39337296    0.         -696.7642445\n",
      "   13.0343095     0.        ]\n",
      "R-squared score (training):  0.8264100777266908\n",
      "R-squared score (test):  0.8158681968901649\n",
      "Number of non-zero features:  20\n",
      "Features with non-zero weight (sorted by absolute magnitude):\n"
     ]
    }
   ],
   "source": [
    "linlasso = Lasso(alpha=1).fit(X_train_scaled, y_train)\n",
    "\n",
    "print('lasso regression linear model intercept: ',linlasso.intercept_)\n",
    "print('lasso regression linear model coeff:\\n ',linlasso.coef_)\n",
    "print('R-squared score (training): ',linlasso.score(X_train_scaled, y_train))\n",
    "print('R-squared score (test): ',linlasso.score(X_test_scaled, y_test))\n",
    "print('Number of non-zero features: ',np.sum(linlasso.coef_ != 0))\n",
    "print('Features with non-zero weight (sorted by absolute magnitude):')"
   ]
  },
  {
   "cell_type": "markdown",
   "metadata": {},
   "source": [
    "# Trees"
   ]
  },
  {
   "cell_type": "markdown",
   "metadata": {},
   "source": [
    "# Decision trees"
   ]
  },
  {
   "cell_type": "code",
   "execution_count": 36,
   "metadata": {},
   "outputs": [
    {
     "name": "stdout",
     "output_type": "stream",
     "text": [
      "Accuracy of Decision Tree Classifier on training set: 0.057623049219687875\n",
      "Accuracy of Decision Tree Classifier on test set: 0.002793296089385475\n"
     ]
    }
   ],
   "source": [
    "from sklearn.tree import DecisionTreeClassifier\n",
    "\n",
    "# settings for decision tree\n",
    "# max_depth: The max depth of the tree\n",
    "# min_samples_leaf: The minimum number of samples required to be at a leaf node\n",
    "# max_leaf_nodes: Grow trees upto ``max_leaf_nodes`` should be even\n",
    "# max_depth = 3, min_samples_leaf = 8, max_leaf_nodes =  10\n",
    "\n",
    "tree_mod1 = DecisionTreeClassifier(max_depth = 10, min_samples_leaf = 20,\n",
    "                                   max_leaf_nodes =  100).fit(X_train, y_train)\n",
    "\n",
    "print('Accuracy of Decision Tree Classifier on training set:',tree_mod1.score(X_train, y_train))\n",
    "print('Accuracy of Decision Tree Classifier on test set:',format(tree_mod1.score(X_test, y_test)))"
   ]
  },
  {
   "cell_type": "code",
   "execution_count": 37,
   "metadata": {},
   "outputs": [
    {
     "name": "stdout",
     "output_type": "stream",
     "text": [
      "Accuracy of Decision Tree Classifier on training set: 0.01920768307322929\n",
      "Accuracy of Decision Tree Classifier on test set: 0.0\n"
     ]
    }
   ],
   "source": [
    "tree_mod2 = DecisionTreeClassifier(max_depth = 7, min_samples_leaf = 4,\n",
    "                                   max_leaf_nodes =  8).fit(X_train, y_train)\n",
    "\n",
    "print('Accuracy of Decision Tree Classifier on training set:',tree_mod2.score(X_train, y_train))\n",
    "print('Accuracy of Decision Tree Classifier on test set:',format(tree_mod2.score(X_test, y_test)))\n",
    "\n",
    "\n",
    "#tree_mod2.predict(X_test)"
   ]
  },
  {
   "cell_type": "markdown",
   "metadata": {},
   "source": [
    "# Bagging\n",
    "\n",
    "# random forest"
   ]
  },
  {
   "cell_type": "code",
   "execution_count": null,
   "metadata": {},
   "outputs": [],
   "source": [
    "# n_estimators = no of trees\n",
    "\n",
    "# max_features : int, float, string, None, optional (default=\"auto\")\n",
    "\n",
    "#    The number of features to consider when looking for the best split:\n",
    "\n",
    "#    - If int, then consider `max_features` features at each split.\n",
    "#    - If float, then `max_features` is a percentage and\n",
    "#      `int(max_features * n_features)` features are considered at each split.\n",
    "#    - If \"auto\", then `max_features=sqrt(n_features)`.\n",
    "#    - If \"sqrt\", then `max_features=sqrt(n_features)` (same as \"auto\").\n",
    "#    - If \"log2\", then `max_features=log2(n_features)`.\n",
    "#    - If None, then `max_features=n_features\n",
    "# oob_score: Whether to use out-of-bag samples to estimate the generalization accuracy.\n",
    "\n",
    "\n",
    "# For Bagging: max_features = None (= n_features)"
   ]
  },
  {
   "cell_type": "code",
   "execution_count": 38,
   "metadata": {},
   "outputs": [
    {
     "name": "stderr",
     "output_type": "stream",
     "text": [
      "C:\\Users\\User\\Anaconda3\\lib\\site-packages\\ipykernel_launcher.py:8: DataConversionWarning: A column-vector y was passed when a 1d array was expected. Please change the shape of y to (n_samples,), for example using ravel().\n",
      "  \n"
     ]
    },
    {
     "name": "stdout",
     "output_type": "stream",
     "text": [
      "Accuracy of Bagging classifier on training set: 0.4801920768307323\n",
      "Accuracy of Bagging classifier on test set: 0.0\n",
      "Accuracy of OOB classifier on test set:  0.0\n"
     ]
    }
   ],
   "source": [
    "from sklearn.ensemble import RandomForestClassifier\n",
    "\n",
    "\n",
    "\n",
    "bag_mod = RandomForestClassifier(bootstrap = True, n_estimators = 100,\n",
    "                                random_state = 0,\n",
    "                                max_features = None, min_samples_leaf = 50,\n",
    "                                max_depth = 10, oob_score = True).fit(X_train, y_train)\n",
    "\n",
    "print('Accuracy of Bagging classifier on training set:',bag_mod.score(X_train, y_train))\n",
    "print('Accuracy of Bagging classifier on test set:',bag_mod.score(X_test, y_test))\n",
    "print('Accuracy of OOB classifier on test set: ',bag_mod.oob_score_)"
   ]
  },
  {
   "cell_type": "code",
   "execution_count": 39,
   "metadata": {},
   "outputs": [
    {
     "name": "stderr",
     "output_type": "stream",
     "text": [
      "C:\\Users\\User\\Anaconda3\\lib\\site-packages\\ipykernel_launcher.py:4: DataConversionWarning: A column-vector y was passed when a 1d array was expected. Please change the shape of y to (n_samples,), for example using ravel().\n",
      "  after removing the cwd from sys.path.\n"
     ]
    },
    {
     "name": "stdout",
     "output_type": "stream",
     "text": [
      "Accuracy of Bagging classifier on training set: 0.7707082833133253\n",
      "Accuracy of Bagging classifier on test set: 0.002793296089385475\n",
      "Accuracy of OOB classifier on test set:  0.0\n"
     ]
    }
   ],
   "source": [
    "bag_mod1 = RandomForestClassifier(bootstrap = True, n_estimators = 50,\n",
    "                                random_state = 0,\n",
    "                                max_features = None, min_samples_leaf = 4,\n",
    "                                max_depth = 10, oob_score = True).fit(X_train, y_train)\n",
    "\n",
    "print('Accuracy of Bagging classifier on training set:',bag_mod1.score(X_train, y_train))\n",
    "print('Accuracy of Bagging classifier on test set:',bag_mod1.score(X_test, y_test))\n",
    "print('Accuracy of OOB classifier on test set: ',bag_mod1.oob_score_)"
   ]
  },
  {
   "cell_type": "code",
   "execution_count": 40,
   "metadata": {},
   "outputs": [
    {
     "name": "stderr",
     "output_type": "stream",
     "text": [
      "C:\\Users\\User\\Anaconda3\\lib\\site-packages\\ipykernel_launcher.py:6: DataConversionWarning: A column-vector y was passed when a 1d array was expected. Please change the shape of y to (n_samples,), for example using ravel().\n",
      "  \n"
     ]
    },
    {
     "name": "stdout",
     "output_type": "stream",
     "text": [
      "Accuracy of RF classifier on training set: 0.8259\n",
      "Accuracy of RF classifier on test set: 0.0028\n",
      "Accuracy of RF OOB classifier on test set: 0.0024\n"
     ]
    }
   ],
   "source": [
    "# Random Forest\n",
    "\n",
    "rf_mod = RandomForestClassifier(bootstrap = True, n_estimators = 50,\n",
    "                                random_state = 0,\n",
    "                                max_features = \"sqrt\", min_samples_leaf = 5,\n",
    "                                max_depth = 7, oob_score = True).fit(X_train, y_train)\n",
    "\n",
    "print('Accuracy of RF classifier on training set: {:.4f}'\n",
    "        .format(rf_mod.score(X_train, y_train)))\n",
    "print('Accuracy of RF classifier on test set: {:.4f}'\n",
    "        .format(rf_mod.score(X_test, y_test)))\n",
    "print('Accuracy of RF OOB classifier on test set: {:.4f}'\n",
    "        .format(rf_mod.oob_score_))"
   ]
  },
  {
   "cell_type": "code",
   "execution_count": null,
   "metadata": {},
   "outputs": [],
   "source": []
  }
 ],
 "metadata": {
  "kernelspec": {
   "display_name": "Python 3",
   "language": "python",
   "name": "python3"
  },
  "language_info": {
   "codemirror_mode": {
    "name": "ipython",
    "version": 3
   },
   "file_extension": ".py",
   "mimetype": "text/x-python",
   "name": "python",
   "nbconvert_exporter": "python",
   "pygments_lexer": "ipython3",
   "version": "3.8.3"
  }
 },
 "nbformat": 4,
 "nbformat_minor": 2
}
